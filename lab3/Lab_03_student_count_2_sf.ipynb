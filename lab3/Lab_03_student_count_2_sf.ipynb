{
 "cells": [
  {
   "cell_type": "markdown",
   "metadata": {},
   "source": [
    "<h1>Number of Students by Higher Education provider</h1>\n",
    "<p>In these notes we look at creating box plots based on the csv files created in the previous exercise.</p>\n",
    "<p>A boxplot is a standardized way of displaying the distribution of data based on a five number summary (\"minimum\", first quartile (Q1), median, third quartile (Q3), and \"maximum\"). It can tell you about your outliers and what their values are. It can also tell you if your data is symmetrical, how tightly your data is grouped, and if and how your data is skewed.</p>"
   ]
  },
  {
   "cell_type": "markdown",
   "metadata": {},
   "source": [
    "<h2>Import PANDAs and Matplotlib.pylot</h2>\n",
    "<p>You will be using the pandas dataframe to store the data and Matplotlib pyplot to plot the data.  Import the necessary libraries</h2>"
   ]
  },
  {
   "cell_type": "code",
   "execution_count": 1,
   "metadata": {},
   "outputs": [],
   "source": [
    "import pandas as pd\n",
    "import matplotlib.pyplot as plt"
   ]
  },
  {
   "cell_type": "markdown",
   "metadata": {},
   "source": [
    "<h2>Read the data into a PANDAs DataFrame</h2>\n",
    "<p>Read the 'nireland.csv' in to a data frame called df, use the head method to output the first 4 rows of the datafile so that the structure of the dataframe can be explored.</p>"
   ]
  },
  {
   "cell_type": "code",
   "execution_count": 2,
   "metadata": {},
   "outputs": [
    {
     "data": {
      "text/html": [
       "<div>\n",
       "<style scoped>\n",
       "    .dataframe tbody tr th:only-of-type {\n",
       "        vertical-align: middle;\n",
       "    }\n",
       "\n",
       "    .dataframe tbody tr th {\n",
       "        vertical-align: top;\n",
       "    }\n",
       "\n",
       "    .dataframe thead th {\n",
       "        text-align: right;\n",
       "    }\n",
       "</style>\n",
       "<table border=\"1\" class=\"dataframe\">\n",
       "  <thead>\n",
       "    <tr style=\"text-align: right;\">\n",
       "      <th></th>\n",
       "      <th>Unnamed: 0</th>\n",
       "      <th>HE provider</th>\n",
       "      <th>Country</th>\n",
       "      <th>Female</th>\n",
       "      <th>Male</th>\n",
       "      <th>Other</th>\n",
       "    </tr>\n",
       "  </thead>\n",
       "  <tbody>\n",
       "    <tr>\n",
       "      <td>0</td>\n",
       "      <td>10</td>\n",
       "      <td>Queen's University Belfast</td>\n",
       "      <td>Northern Ireland</td>\n",
       "      <td>8490.0</td>\n",
       "      <td>6945.0</td>\n",
       "      <td>0.0</td>\n",
       "    </tr>\n",
       "    <tr>\n",
       "      <td>1</td>\n",
       "      <td>124</td>\n",
       "      <td>St Mary's University College</td>\n",
       "      <td>Northern Ireland</td>\n",
       "      <td>635.0</td>\n",
       "      <td>230.0</td>\n",
       "      <td>0.0</td>\n",
       "    </tr>\n",
       "    <tr>\n",
       "      <td>2</td>\n",
       "      <td>136</td>\n",
       "      <td>Stranmillis University College</td>\n",
       "      <td>Northern Ireland</td>\n",
       "      <td>855.0</td>\n",
       "      <td>245.0</td>\n",
       "      <td>0.0</td>\n",
       "    </tr>\n",
       "    <tr>\n",
       "      <td>3</td>\n",
       "      <td>147</td>\n",
       "      <td>Ulster University</td>\n",
       "      <td>Northern Ireland</td>\n",
       "      <td>8210.0</td>\n",
       "      <td>6610.0</td>\n",
       "      <td>0.0</td>\n",
       "    </tr>\n",
       "  </tbody>\n",
       "</table>\n",
       "</div>"
      ],
      "text/plain": [
       "   Unnamed: 0                     HE provider           Country  Female  \\\n",
       "0          10      Queen's University Belfast  Northern Ireland  8490.0   \n",
       "1         124    St Mary's University College  Northern Ireland   635.0   \n",
       "2         136  Stranmillis University College  Northern Ireland   855.0   \n",
       "3         147               Ulster University  Northern Ireland  8210.0   \n",
       "\n",
       "     Male  Other  \n",
       "0  6945.0    0.0  \n",
       "1   230.0    0.0  \n",
       "2   245.0    0.0  \n",
       "3  6610.0    0.0  "
      ]
     },
     "execution_count": 2,
     "metadata": {},
     "output_type": "execute_result"
    }
   ],
   "source": [
    "df = pd.read_csv('nireland.csv')\n",
    "df.head(4)"
   ]
  },
  {
   "cell_type": "markdown",
   "metadata": {},
   "source": [
    "<h2>Create two Lists</h2>\n",
    "<p>Create two lists objects named male and female.  Copy the data from the relevant columns of the DataFrame into the list objects (we could skip this part but it will make the construction of the box plots slightly easier). </p>"
   ]
  },
  {
   "cell_type": "code",
   "execution_count": 3,
   "metadata": {},
   "outputs": [],
   "source": [
    "male = df['Male']\n",
    "female = df['Female']"
   ]
  },
  {
   "cell_type": "markdown",
   "metadata": {},
   "source": [
    "<h2>Create a Box Plot</h2>\n",
    "<p>Create a Box plot for the lists that represent both male and female students studying an undergraduate degree in Northern Ireland.  Add the following features to the plot:\n",
    "<ul>\n",
    "<li>Title of Male vs Female</li>\n",
    "<li>x-axis named Male and Female for each box plot</li>\n",
    "<li>With a grid</li>\n",
    "</ul>\n",
    "</p>"
   ]
  },
  {
   "cell_type": "code",
   "execution_count": 4,
   "metadata": {},
   "outputs": [
    {
     "data": {
      "text/plain": [
       "[]"
      ]
     },
     "execution_count": 4,
     "metadata": {},
     "output_type": "execute_result"
    },
    {
     "data": {
      "image/png": "[encoded data removed]",
      "text/plain": [
       "<Figure size 1152x288 with 1 Axes>"
      ]
     },
     "metadata": {
      "needs_background": "light"
     },
     "output_type": "display_data"
    }
   ],
   "source": [
    "fig, ax = plt.subplots(figsize=(16,4))\n",
    "ax.set_yticklabels(['Male', 'Female'])\n",
    "ax.set_title('Male vs Female')\n",
    "plt.boxplot([male, female], vert=False)\n",
    "ax.grid(True)\n",
    "#ax.set_xticks([i*500 for i in range(16000)])\n",
    "plt.plot()"
   ]
  },
  {
   "cell_type": "markdown",
   "metadata": {},
   "source": [
    "<h2>What the Plot tells you</h2>\n",
    "<p>Based on your plot, what can you summarise about the data?</p>"
   ]
  },
  {
   "cell_type": "markdown",
   "metadata": {},
   "source": [
    "<h2>Box Plot for Wales</h2>\n",
    "<p>Create a Box plot for the lists that represent both male and female students studying an undergraduate degree in Wales.\n",
    "</p>"
   ]
  },
  {
   "cell_type": "code",
   "execution_count": 5,
   "metadata": {},
   "outputs": [
    {
     "data": {
      "text/plain": [
       "[]"
      ]
     },
     "execution_count": 5,
     "metadata": {},
     "output_type": "execute_result"
    },
    {
     "data": {
      "image/png": "[encoded data removed]",
      "text/plain": [
       "<Figure size 1152x288 with 1 Axes>"
      ]
     },
     "metadata": {
      "needs_background": "light"
     },
     "output_type": "display_data"
    }
   ],
   "source": [
    "df = pd.read_csv('wales.csv')\n",
    "male = df['Male']\n",
    "female = df['Female']\n",
    "fig, ax = plt.subplots(figsize=(16,4))\n",
    "ax.set_yticklabels(['Male', 'Female'])\n",
    "ax.set_title('Male vs Female')\n",
    "plt.boxplot([male, female], vert=False)\n",
    "ax.grid(True)\n",
    "#ax.set_xticks([i*500 for i in range(16000)])\n",
    "plt.plot()"
   ]
  },
  {
   "cell_type": "markdown",
   "metadata": {},
   "source": [
    "<h2>Box Plot for Scotland</h2>\n",
    "<p>Create a Box plot for the lists that represent both male and female students studying an undergraduate degree in Scotland.\n",
    "</p>"
   ]
  },
  {
   "cell_type": "code",
   "execution_count": 6,
   "metadata": {},
   "outputs": [
    {
     "data": {
      "text/plain": [
       "[]"
      ]
     },
     "execution_count": 6,
     "metadata": {},
     "output_type": "execute_result"
    },
    {
     "data": {
      "image/png": "[encoded data removed]",
      "text/plain": [
       "<Figure size 1152x288 with 1 Axes>"
      ]
     },
     "metadata": {
      "needs_background": "light"
     },
     "output_type": "display_data"
    }
   ],
   "source": [
    "df = pd.read_csv('scotland.csv')\n",
    "male = df['Male']\n",
    "female = df['Female']\n",
    "fig, ax = plt.subplots(figsize=(16,4))\n",
    "ax.set_yticklabels(['Male', 'Female'])\n",
    "ax.set_title('Male vs Female')\n",
    "plt.boxplot([male, female], vert=False)\n",
    "ax.grid(True)\n",
    "#ax.set_xticks([i*500 for i in range(16000)])\n",
    "plt.plot()"
   ]
  },
  {
   "cell_type": "markdown",
   "metadata": {},
   "source": [
    "<h2>Box Plot for England</h2>\n",
    "<p>Create a Box plot for the lists that represent both male and female students studying an undergraduate degree in England.\n",
    "</p>"
   ]
  },
  {
   "cell_type": "code",
   "execution_count": 7,
   "metadata": {},
   "outputs": [
    {
     "data": {
      "text/plain": [
       "[]"
      ]
     },
     "execution_count": 7,
     "metadata": {},
     "output_type": "execute_result"
    },
    {
     "data": {
      "image/png": "[encoded data removed]",
      "text/plain": [
       "<Figure size 1152x288 with 1 Axes>"
      ]
     },
     "metadata": {
      "needs_background": "light"
     },
     "output_type": "display_data"
    }
   ],
   "source": [
    "df = pd.read_csv('england.csv')\n",
    "male = df['Male']\n",
    "female = df['Female']\n",
    "fig, ax = plt.subplots(figsize=(16,4))\n",
    "ax.set_yticklabels(['Male', 'Female'])\n",
    "ax.set_title('Male vs Female')\n",
    "plt.boxplot([male, female], vert=False)\n",
    "ax.grid(True)\n",
    "#ax.set_xticks([i*500 for i in range(16000)])\n",
    "plt.plot()"
   ]
  },
  {
   "cell_type": "markdown",
   "metadata": {},
   "source": [
    "<h2>Box Plot for Females (all Countries)</h2>\n",
    "<p>Create a Box plot for the lists that represent female students studying an undergraduate degree in England, Wales, Scotland and Northern Ireland.\n",
    "</p>"
   ]
  },
  {
   "cell_type": "code",
   "execution_count": 8,
   "metadata": {},
   "outputs": [
    {
     "data": {
      "text/plain": [
       "[]"
      ]
     },
     "execution_count": 8,
     "metadata": {},
     "output_type": "execute_result"
    },
    {
     "data": {
      "image/png": "[encoded data removed]",
      "text/plain": [
       "<Figure size 1152x576 with 1 Axes>"
      ]
     },
     "metadata": {
      "needs_background": "light"
     },
     "output_type": "display_data"
    }
   ],
   "source": [
    "df = pd.read_csv('england.csv')\n",
    "efemale = df['Female']\n",
    "df2 = pd.read_csv('wales.csv')\n",
    "wfemale = df2['Female']\n",
    "df3 = pd.read_csv('scotland.csv')\n",
    "sfemale = df3['Female']\n",
    "df4 = pd.read_csv('nireland.csv')\n",
    "ifemale = df4['Female']\n",
    "\n",
    "fig, ax = plt.subplots(figsize=(16,8))\n",
    "ax.set_yticklabels(['England', 'Wales', 'Scotland', 'Northern Ireland'])\n",
    "ax.set_title('Female Students')\n",
    "plt.boxplot([efemale, wfemale, sfemale, ifemale], vert=False)\n",
    "ax.grid(True)\n",
    "#ax.set_xticks([i*500 for i in range(16000)])\n",
    "plt.plot()"
   ]
  },
  {
   "cell_type": "markdown",
   "metadata": {},
   "source": [
    "<h2>Box Plot for Males (all Countries)</h2>\n",
    "<p>Create a Box plot for the lists that represent male students studying an undergraduate degree in England, Wales, Scotland and Northern Ireland.\n",
    "</p>"
   ]
  },
  {
   "cell_type": "code",
   "execution_count": 9,
   "metadata": {},
   "outputs": [
    {
     "data": {
      "text/plain": [
       "[]"
      ]
     },
     "execution_count": 9,
     "metadata": {},
     "output_type": "execute_result"
    },
    {
     "data": {
      "image/png": "[encoded data removed]",
      "text/plain": [
       "<Figure size 1152x576 with 1 Axes>"
      ]
     },
     "metadata": {
      "needs_background": "light"
     },
     "output_type": "display_data"
    }
   ],
   "source": [
    "df = pd.read_csv('england.csv')\n",
    "emale = df['Male']\n",
    "df2 = pd.read_csv('wales.csv')\n",
    "wmale = df2['Male']\n",
    "df3 = pd.read_csv('scotland.csv')\n",
    "smale = df3['Male']\n",
    "df4 = pd.read_csv('nireland.csv')\n",
    "imale = df4['Male']\n",
    "\n",
    "fig, ax = plt.subplots(figsize=(16,8))\n",
    "ax.set_yticklabels(['England', 'Wales', 'Scotland', 'Northern Ireland'])\n",
    "ax.set_title('Male Students')\n",
    "plt.boxplot([emale, wmale, smale, imale], vert=False)\n",
    "ax.grid(True)\n",
    "#ax.set_xticks([i*500 for i in range(16000)])\n",
    "plt.plot()"
   ]
  },
  {
   "cell_type": "markdown",
   "metadata": {},
   "source": [
    "<h2>Box Plots</h2>\n",
    "<p>What is the median value (approx) for England?</p>\n",
    "<p>What does the median value represent?</p>\n",
    "<p>What does the interquartile range represent?</p>\n",
    "<p>What does the upper and lower quartiles represent?</p>\n",
    "<p>What do the whiskers represent?</p>\n",
    "<p>"
   ]
  }
 ],
 "metadata": {
  "kernelspec": {
   "display_name": "Python 3",
   "language": "python",
   "name": "python3"
  },
  "language_info": {
   "codemirror_mode": {
    "name": "ipython",
    "version": 3
   },
   "file_extension": ".py",
   "mimetype": "text/x-python",
   "name": "python",
   "nbconvert_exporter": "python",
   "pygments_lexer": "ipython3",
   "version": "3.7.6"
  }
 },
 "nbformat": 4,
 "nbformat_minor": 4
}
