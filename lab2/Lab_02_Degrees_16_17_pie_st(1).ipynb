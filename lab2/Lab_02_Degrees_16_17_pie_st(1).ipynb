{
 "cells": [
  {
   "cell_type": "markdown",
   "metadata": {},
   "source": [
    "<h1>Classification of Degrees awarded (2016/17)</h1>\n",
    "<p>In this Notebook you will show the degree classifications awareded from academic year 2016/17 as a pie plot</p>\n",
    "<p>You will require the files produced when you completed the previous exercise</p>"
   ]
  },
  {
   "cell_type": "markdown",
   "metadata": {},
   "source": [
    "<h2>Import PANDAs and Matplotlib.pylot</h2>\n",
    "<p>You will be using the pandas dataframe to store the data and Matplotlib pyplot to plot the data.  Import the necessary libraries</h2>"
   ]
  },
  {
   "cell_type": "code",
   "execution_count": 1,
   "metadata": {},
   "outputs": [],
   "source": [
    "import pandas as pd\n",
    "import matplotlib. pyplot as plt"
   ]
  },
  {
   "cell_type": "markdown",
   "metadata": {},
   "source": [
    "<h2>Read the data into a PANDAs DataFrame</h2>\n",
    "<p>Read the 'df.csv' in to a data frame called df, use the head method to output the first 20 rows of the datafile so that the structure of the dataframe can be explored.</p>"
   ]
  },
  {
   "cell_type": "code",
   "execution_count": 2,
   "metadata": {},
   "outputs": [
    {
     "data": {
      "text/html": [
       "<div>\n",
       "<style scoped>\n",
       "    .dataframe tbody tr th:only-of-type {\n",
       "        vertical-align: middle;\n",
       "    }\n",
       "\n",
       "    .dataframe tbody tr th {\n",
       "        vertical-align: top;\n",
       "    }\n",
       "\n",
       "    .dataframe thead th {\n",
       "        text-align: right;\n",
       "    }\n",
       "</style>\n",
       "<table border=\"1\" class=\"dataframe\">\n",
       "  <thead>\n",
       "    <tr style=\"text-align: right;\">\n",
       "      <th></th>\n",
       "      <th>Academic Year</th>\n",
       "      <th>Classification of First Degree</th>\n",
       "      <th>Number</th>\n",
       "      <th>Percentage</th>\n",
       "    </tr>\n",
       "  </thead>\n",
       "  <tbody>\n",
       "    <tr>\n",
       "      <th>0</th>\n",
       "      <td>2013/14</td>\n",
       "      <td>First</td>\n",
       "      <td>79410</td>\n",
       "      <td>20</td>\n",
       "    </tr>\n",
       "    <tr>\n",
       "      <th>1</th>\n",
       "      <td>2013/14</td>\n",
       "      <td>Lower second</td>\n",
       "      <td>95965</td>\n",
       "      <td>24</td>\n",
       "    </tr>\n",
       "    <tr>\n",
       "      <th>2</th>\n",
       "      <td>2013/14</td>\n",
       "      <td>Third/Pass</td>\n",
       "      <td>21905</td>\n",
       "      <td>6</td>\n",
       "    </tr>\n",
       "    <tr>\n",
       "      <th>3</th>\n",
       "      <td>2013/14</td>\n",
       "      <td>Upper second</td>\n",
       "      <td>198320</td>\n",
       "      <td>50</td>\n",
       "    </tr>\n",
       "    <tr>\n",
       "      <th>4</th>\n",
       "      <td>2014/15</td>\n",
       "      <td>First</td>\n",
       "      <td>81640</td>\n",
       "      <td>22</td>\n",
       "    </tr>\n",
       "    <tr>\n",
       "      <th>5</th>\n",
       "      <td>2014/15</td>\n",
       "      <td>Lower second</td>\n",
       "      <td>85250</td>\n",
       "      <td>23</td>\n",
       "    </tr>\n",
       "    <tr>\n",
       "      <th>6</th>\n",
       "      <td>2014/15</td>\n",
       "      <td>Third/Pass</td>\n",
       "      <td>20340</td>\n",
       "      <td>5</td>\n",
       "    </tr>\n",
       "    <tr>\n",
       "      <th>7</th>\n",
       "      <td>2014/15</td>\n",
       "      <td>Upper second</td>\n",
       "      <td>183680</td>\n",
       "      <td>50</td>\n",
       "    </tr>\n",
       "    <tr>\n",
       "      <th>8</th>\n",
       "      <td>2015/16</td>\n",
       "      <td>First</td>\n",
       "      <td>88890</td>\n",
       "      <td>24</td>\n",
       "    </tr>\n",
       "    <tr>\n",
       "      <th>9</th>\n",
       "      <td>2015/16</td>\n",
       "      <td>Lower second</td>\n",
       "      <td>81595</td>\n",
       "      <td>22</td>\n",
       "    </tr>\n",
       "    <tr>\n",
       "      <th>10</th>\n",
       "      <td>2015/16</td>\n",
       "      <td>Third/Pass</td>\n",
       "      <td>19280</td>\n",
       "      <td>5</td>\n",
       "    </tr>\n",
       "    <tr>\n",
       "      <th>11</th>\n",
       "      <td>2015/16</td>\n",
       "      <td>Upper second</td>\n",
       "      <td>186565</td>\n",
       "      <td>50</td>\n",
       "    </tr>\n",
       "    <tr>\n",
       "      <th>12</th>\n",
       "      <td>2016/17</td>\n",
       "      <td>First</td>\n",
       "      <td>100945</td>\n",
       "      <td>26</td>\n",
       "    </tr>\n",
       "    <tr>\n",
       "      <th>13</th>\n",
       "      <td>2016/17</td>\n",
       "      <td>Lower second</td>\n",
       "      <td>79515</td>\n",
       "      <td>20</td>\n",
       "    </tr>\n",
       "    <tr>\n",
       "      <th>14</th>\n",
       "      <td>2016/17</td>\n",
       "      <td>Third/Pass</td>\n",
       "      <td>19025</td>\n",
       "      <td>5</td>\n",
       "    </tr>\n",
       "    <tr>\n",
       "      <th>15</th>\n",
       "      <td>2016/17</td>\n",
       "      <td>Upper second</td>\n",
       "      <td>192395</td>\n",
       "      <td>49</td>\n",
       "    </tr>\n",
       "    <tr>\n",
       "      <th>16</th>\n",
       "      <td>2017/18</td>\n",
       "      <td>First</td>\n",
       "      <td>110475</td>\n",
       "      <td>28</td>\n",
       "    </tr>\n",
       "    <tr>\n",
       "      <th>17</th>\n",
       "      <td>2017/18</td>\n",
       "      <td>Lower second</td>\n",
       "      <td>76210</td>\n",
       "      <td>19</td>\n",
       "    </tr>\n",
       "    <tr>\n",
       "      <th>18</th>\n",
       "      <td>2017/18</td>\n",
       "      <td>Third/Pass</td>\n",
       "      <td>17830</td>\n",
       "      <td>4</td>\n",
       "    </tr>\n",
       "    <tr>\n",
       "      <th>19</th>\n",
       "      <td>2017/18</td>\n",
       "      <td>Upper second</td>\n",
       "      <td>192425</td>\n",
       "      <td>48</td>\n",
       "    </tr>\n",
       "  </tbody>\n",
       "</table>\n",
       "</div>"
      ],
      "text/plain": [
       "   Academic Year Classification of First Degree  Number  Percentage\n",
       "0        2013/14                          First   79410          20\n",
       "1        2013/14                   Lower second   95965          24\n",
       "2        2013/14                     Third/Pass   21905           6\n",
       "3        2013/14                   Upper second  198320          50\n",
       "4        2014/15                          First   81640          22\n",
       "5        2014/15                   Lower second   85250          23\n",
       "6        2014/15                     Third/Pass   20340           5\n",
       "7        2014/15                   Upper second  183680          50\n",
       "8        2015/16                          First   88890          24\n",
       "9        2015/16                   Lower second   81595          22\n",
       "10       2015/16                     Third/Pass   19280           5\n",
       "11       2015/16                   Upper second  186565          50\n",
       "12       2016/17                          First  100945          26\n",
       "13       2016/17                   Lower second   79515          20\n",
       "14       2016/17                     Third/Pass   19025           5\n",
       "15       2016/17                   Upper second  192395          49\n",
       "16       2017/18                          First  110475          28\n",
       "17       2017/18                   Lower second   76210          19\n",
       "18       2017/18                     Third/Pass   17830           4\n",
       "19       2017/18                   Upper second  192425          48"
      ]
     },
     "execution_count": 2,
     "metadata": {},
     "output_type": "execute_result"
    }
   ],
   "source": [
    "df = pd.read_csv(\"df.csv\")\n",
    "df.head(20)\n",
    "df = df.drop(columns=['level_0', 'index'])\n",
    "df"
   ]
  },
  {
   "cell_type": "markdown",
   "metadata": {},
   "source": [
    "<h2>Creating a new DataFrame</h2>\n",
    "<p>Create a new dataframe named df_16_17 that contains only the rows where the 'Academic Year' column has the value '2016/17', then output the dataframe to make sure you have the correct four rows.</p>"
   ]
  },
  {
   "cell_type": "code",
   "execution_count": 4,
   "metadata": {},
   "outputs": [
    {
     "data": {
      "text/html": [
       "<div>\n",
       "<style scoped>\n",
       "    .dataframe tbody tr th:only-of-type {\n",
       "        vertical-align: middle;\n",
       "    }\n",
       "\n",
       "    .dataframe tbody tr th {\n",
       "        vertical-align: top;\n",
       "    }\n",
       "\n",
       "    .dataframe thead th {\n",
       "        text-align: right;\n",
       "    }\n",
       "</style>\n",
       "<table border=\"1\" class=\"dataframe\">\n",
       "  <thead>\n",
       "    <tr style=\"text-align: right;\">\n",
       "      <th></th>\n",
       "      <th>Academic Year</th>\n",
       "      <th>Classification of First Degree</th>\n",
       "      <th>Number</th>\n",
       "      <th>Percentage</th>\n",
       "    </tr>\n",
       "  </thead>\n",
       "  <tbody>\n",
       "    <tr>\n",
       "      <th>12</th>\n",
       "      <td>2016/17</td>\n",
       "      <td>First</td>\n",
       "      <td>100945</td>\n",
       "      <td>26</td>\n",
       "    </tr>\n",
       "    <tr>\n",
       "      <th>13</th>\n",
       "      <td>2016/17</td>\n",
       "      <td>Lower second</td>\n",
       "      <td>79515</td>\n",
       "      <td>20</td>\n",
       "    </tr>\n",
       "    <tr>\n",
       "      <th>14</th>\n",
       "      <td>2016/17</td>\n",
       "      <td>Third/Pass</td>\n",
       "      <td>19025</td>\n",
       "      <td>5</td>\n",
       "    </tr>\n",
       "    <tr>\n",
       "      <th>15</th>\n",
       "      <td>2016/17</td>\n",
       "      <td>Upper second</td>\n",
       "      <td>192395</td>\n",
       "      <td>49</td>\n",
       "    </tr>\n",
       "  </tbody>\n",
       "</table>\n",
       "</div>"
      ],
      "text/plain": [
       "   Academic Year Classification of First Degree  Number  Percentage\n",
       "12       2016/17                          First  100945          26\n",
       "13       2016/17                   Lower second   79515          20\n",
       "14       2016/17                     Third/Pass   19025           5\n",
       "15       2016/17                   Upper second  192395          49"
      ]
     },
     "execution_count": 4,
     "metadata": {},
     "output_type": "execute_result"
    }
   ],
   "source": [
    "mask = df['Academic Year'] == \"2016/17\"\n",
    "df_16_17 = df[mask]\n",
    "df_16_17"
   ]
  },
  {
   "cell_type": "markdown",
   "metadata": {},
   "source": [
    "<h2>Setting the Index</h2>\n",
    "<p>Set Academic Year as the row index and remove any unnamed columns.  Then output the dataframe to make sure it is as expected</p>"
   ]
  },
  {
   "cell_type": "code",
   "execution_count": 11,
   "metadata": {},
   "outputs": [
    {
     "ename": "KeyError",
     "evalue": "\"None of ['Academic Year'] are in the columns\"",
     "output_type": "error",
     "traceback": [
      "\u001b[0;31m---------------------------------------------------------------------------\u001b[0m",
      "\u001b[0;31mKeyError\u001b[0m                                  Traceback (most recent call last)",
      "\u001b[0;32m<ipython-input-11-eb2b08e55083>\u001b[0m in \u001b[0;36m<module>\u001b[0;34m\u001b[0m\n\u001b[0;32m----> 1\u001b[0;31m \u001b[0mdf_16_17\u001b[0m \u001b[0;34m=\u001b[0m \u001b[0mdf_16_17\u001b[0m\u001b[0;34m.\u001b[0m\u001b[0mset_index\u001b[0m\u001b[0;34m(\u001b[0m\u001b[0;34m'Academic Year'\u001b[0m\u001b[0;34m)\u001b[0m\u001b[0;34m\u001b[0m\u001b[0;34m\u001b[0m\u001b[0m\n\u001b[0m\u001b[1;32m      2\u001b[0m \u001b[0mdf_16_17\u001b[0m\u001b[0;34m\u001b[0m\u001b[0;34m\u001b[0m\u001b[0m\n",
      "\u001b[0;32m/opt/anaconda3/lib/python3.7/site-packages/pandas/core/frame.py\u001b[0m in \u001b[0;36mset_index\u001b[0;34m(self, keys, drop, append, inplace, verify_integrity)\u001b[0m\n\u001b[1;32m   4409\u001b[0m \u001b[0;34m\u001b[0m\u001b[0m\n\u001b[1;32m   4410\u001b[0m         \u001b[0;32mif\u001b[0m \u001b[0mmissing\u001b[0m\u001b[0;34m:\u001b[0m\u001b[0;34m\u001b[0m\u001b[0;34m\u001b[0m\u001b[0m\n\u001b[0;32m-> 4411\u001b[0;31m             \u001b[0;32mraise\u001b[0m \u001b[0mKeyError\u001b[0m\u001b[0;34m(\u001b[0m\u001b[0;34m\"None of {} are in the columns\"\u001b[0m\u001b[0;34m.\u001b[0m\u001b[0mformat\u001b[0m\u001b[0;34m(\u001b[0m\u001b[0mmissing\u001b[0m\u001b[0;34m)\u001b[0m\u001b[0;34m)\u001b[0m\u001b[0;34m\u001b[0m\u001b[0;34m\u001b[0m\u001b[0m\n\u001b[0m\u001b[1;32m   4412\u001b[0m \u001b[0;34m\u001b[0m\u001b[0m\n\u001b[1;32m   4413\u001b[0m         \u001b[0;32mif\u001b[0m \u001b[0minplace\u001b[0m\u001b[0;34m:\u001b[0m\u001b[0;34m\u001b[0m\u001b[0;34m\u001b[0m\u001b[0m\n",
      "\u001b[0;31mKeyError\u001b[0m: \"None of ['Academic Year'] are in the columns\""
     ]
    }
   ],
   "source": [
    "df_16_17 = df_16_17.set_index('Academic Year')"
   ]
  },
  {
   "cell_type": "code",
   "execution_count": 12,
   "metadata": {},
   "outputs": [
    {
     "data": {
      "text/html": [
       "<div>\n",
       "<style scoped>\n",
       "    .dataframe tbody tr th:only-of-type {\n",
       "        vertical-align: middle;\n",
       "    }\n",
       "\n",
       "    .dataframe tbody tr th {\n",
       "        vertical-align: top;\n",
       "    }\n",
       "\n",
       "    .dataframe thead th {\n",
       "        text-align: right;\n",
       "    }\n",
       "</style>\n",
       "<table border=\"1\" class=\"dataframe\">\n",
       "  <thead>\n",
       "    <tr style=\"text-align: right;\">\n",
       "      <th></th>\n",
       "      <th>Classification of First Degree</th>\n",
       "      <th>Number</th>\n",
       "      <th>Percentage</th>\n",
       "    </tr>\n",
       "    <tr>\n",
       "      <th>Academic Year</th>\n",
       "      <th></th>\n",
       "      <th></th>\n",
       "      <th></th>\n",
       "    </tr>\n",
       "  </thead>\n",
       "  <tbody>\n",
       "    <tr>\n",
       "      <th>2016/17</th>\n",
       "      <td>First</td>\n",
       "      <td>100945</td>\n",
       "      <td>26</td>\n",
       "    </tr>\n",
       "    <tr>\n",
       "      <th>2016/17</th>\n",
       "      <td>Lower second</td>\n",
       "      <td>79515</td>\n",
       "      <td>20</td>\n",
       "    </tr>\n",
       "    <tr>\n",
       "      <th>2016/17</th>\n",
       "      <td>Third/Pass</td>\n",
       "      <td>19025</td>\n",
       "      <td>5</td>\n",
       "    </tr>\n",
       "    <tr>\n",
       "      <th>2016/17</th>\n",
       "      <td>Upper second</td>\n",
       "      <td>192395</td>\n",
       "      <td>49</td>\n",
       "    </tr>\n",
       "  </tbody>\n",
       "</table>\n",
       "</div>"
      ],
      "text/plain": [
       "              Classification of First Degree  Number  Percentage\n",
       "Academic Year                                                   \n",
       "2016/17                                First  100945          26\n",
       "2016/17                         Lower second   79515          20\n",
       "2016/17                           Third/Pass   19025           5\n",
       "2016/17                         Upper second  192395          49"
      ]
     },
     "execution_count": 12,
     "metadata": {},
     "output_type": "execute_result"
    }
   ],
   "source": [
    "df_16_17 "
   ]
  },
  {
   "cell_type": "markdown",
   "metadata": {},
   "source": [
    "<h2>Define the Size of the Figure</h2>\n",
    "<p>We are now ready to plot.  Figures consist of one or more plots, set the size of the figure to 10 inches by 5 inches. Give your figure a name called '16_17' and assign this object to a variable named fig</p>"
   ]
  },
  {
   "cell_type": "code",
   "execution_count": 6,
   "metadata": {},
   "outputs": [
    {
     "data": {
      "text/plain": [
       "<Figure size 720x360 with 0 Axes>"
      ]
     },
     "metadata": {},
     "output_type": "display_data"
    }
   ],
   "source": [
    "fig = plt.figure(figsize=(10,5))"
   ]
  },
  {
   "cell_type": "markdown",
   "metadata": {},
   "source": [
    "<h2>Create a Plot</h2>\n",
    "<p>Create a pie plot using using the data from the 'Percentage' column.</p> "
   ]
  },
  {
   "cell_type": "code",
   "execution_count": 13,
   "metadata": {},
   "outputs": [
    {
     "data": {
      "text/plain": [
       "([<matplotlib.patches.Wedge at 0x7fbcea935a10>,\n",
       "  <matplotlib.patches.Wedge at 0x7fbcea935d90>,\n",
       "  <matplotlib.patches.Wedge at 0x7fbcea941410>,\n",
       "  <matplotlib.patches.Wedge at 0x7fbcea941450>],\n",
       " [Text(0.7530018405458981, 0.8018654676031947, 'First'),\n",
       "  Text(-0.7011663458720079, 0.8475646025032523, 'Lower second'),\n",
       "  Text(-1.0951181570411401, 0.10351918720129626, 'Third/Pass'),\n",
       "  Text(0.034551827780237764, -1.099457216628753, 'Upper second')])"
      ]
     },
     "execution_count": 13,
     "metadata": {},
     "output_type": "execute_result"
    },
    {
     "data": {
      "image/png": "[encoded data removed]",
      "text/plain": [
       "<Figure size 432x288 with 1 Axes>"
      ]
     },
     "metadata": {},
     "output_type": "display_data"
    }
   ],
   "source": [
    "plt.pie(df_16_17['Percentage'], labels=df_16_17[\"Classification of First Degree\"])"
   ]
  },
  {
   "cell_type": "markdown",
   "metadata": {},
   "source": [
    "<h2>The explode attribute</h2>\n",
    "<p>Use the explode attribute for the plot so that the first class degrees is slightly seperated from the rest of the slices, then replot</p>"
   ]
  },
  {
   "cell_type": "code",
   "execution_count": 16,
   "metadata": {},
   "outputs": [
    {
     "data": {
      "text/plain": [
       "([<matplotlib.patches.Wedge at 0x7fbcea8fb6d0>,\n",
       "  <matplotlib.patches.Wedge at 0x7fbcea8fb9d0>,\n",
       "  <matplotlib.patches.Wedge at 0x7fbcea8fba10>,\n",
       "  <matplotlib.patches.Wedge at 0x7fbcea906050>],\n",
       " [Text(0.9583659788765976, 1.0205560496767931, 'First'),\n",
       "  Text(-0.8923935311098282, 1.0787185850041392, 'Lower second'),\n",
       "  Text(-1.3937867453250874, 0.13175169280164978, 'Third/Pass'),\n",
       "  Text(0.043975053538484424, -1.3993091848002313, 'Upper second')])"
      ]
     },
     "execution_count": 16,
     "metadata": {},
     "output_type": "execute_result"
    },
    {
     "data": {
      "image/png": "[encoded data removed]",
      "text/plain": [
       "<Figure size 432x288 with 1 Axes>"
      ]
     },
     "metadata": {},
     "output_type": "display_data"
    }
   ],
   "source": [
    "plt.pie(df_16_17['Percentage'], labels=df_16_17[\"Classification of First Degree\"], explode = [0.3]*4)"
   ]
  },
  {
   "cell_type": "markdown",
   "metadata": {},
   "source": [
    "<h2>The Shadow attribute</h2>\n",
    "<p>Use the shadow attribute for the plot so that there is a shadow effect, then replot</p>"
   ]
  },
  {
   "cell_type": "code",
   "execution_count": 18,
   "metadata": {},
   "outputs": [
    {
     "data": {
      "text/plain": [
       "([<matplotlib.patches.Wedge at 0x7fbcea8d0e10>,\n",
       "  <matplotlib.patches.Wedge at 0x7fbcea8dd1d0>,\n",
       "  <matplotlib.patches.Wedge at 0x7fbcea8dda10>,\n",
       "  <matplotlib.patches.Wedge at 0x7fbcea867250>],\n",
       " [Text(0.9583659788765976, 1.0205560496767931, 'First'),\n",
       "  Text(-0.8923935311098282, 1.0787185850041392, 'Lower second'),\n",
       "  Text(-1.3937867453250874, 0.13175169280164978, 'Third/Pass'),\n",
       "  Text(0.043975053538484424, -1.3993091848002313, 'Upper second')])"
      ]
     },
     "execution_count": 18,
     "metadata": {},
     "output_type": "execute_result"
    },
    {
     "data": {
      "image/png": "[encoded data removed]",
      "text/plain": [
       "<Figure size 432x288 with 1 Axes>"
      ]
     },
     "metadata": {},
     "output_type": "display_data"
    }
   ],
   "source": [
    "plt.pie(df_16_17['Percentage'], labels=df_16_17[\"Classification of First Degree\"], explode = [0.3]*4, shadow = True)"
   ]
  },
  {
   "cell_type": "markdown",
   "metadata": {},
   "source": [
    "<h2>The Start Angle attribute</h2>\n",
    "<p>Use the start angle attribute so that the pie chart is rotated by 90 degrees, the slice that represents the first class degrees should be in the top left of the plot.  Replot to make sure it has worked correctly</p>"
   ]
  },
  {
   "cell_type": "code",
   "execution_count": 20,
   "metadata": {},
   "outputs": [
    {
     "data": {
      "text/plain": [
       "([<matplotlib.patches.Wedge at 0x7fbcea801850>,\n",
       "  <matplotlib.patches.Wedge at 0x7fbcea801b90>,\n",
       "  <matplotlib.patches.Wedge at 0x7fbcea80d3d0>,\n",
       "  <matplotlib.patches.Wedge at 0x7fbcea80dbd0>],\n",
       " [Text(-1.020556049676793, 0.9583659788765978, 'First'),\n",
       "  Text(-1.0787185850041392, -0.8923935311098282, 'Lower second'),\n",
       "  Text(-0.1317516928016499, -1.3937867453250874, 'Third/Pass'),\n",
       "  Text(1.3993091848002313, 0.04397505353848434, 'Upper second')])"
      ]
     },
     "execution_count": 20,
     "metadata": {},
     "output_type": "execute_result"
    },
    {
     "data": {
      "image/png": "[encoded data removed]",
      "text/plain": [
       "<Figure size 432x288 with 1 Axes>"
      ]
     },
     "metadata": {},
     "output_type": "display_data"
    }
   ],
   "source": [
    "plt.pie(df_16_17['Percentage'], labels=df_16_17[\"Classification of First Degree\"], explode = [0.3]*4, shadow = True, startangle=90)"
   ]
  },
  {
   "cell_type": "markdown",
   "metadata": {},
   "source": [
    "<h2>Adding Percentages</h2>\n",
    "<p>Add percentages to the plot for each slice.  Replot to make sure it has worked correctly</p>"
   ]
  },
  {
   "cell_type": "code",
   "execution_count": 25,
   "metadata": {},
   "outputs": [
    {
     "data": {
      "text/plain": [
       "([<matplotlib.patches.Wedge at 0x7fbcea666f10>,\n",
       "  <matplotlib.patches.Wedge at 0x7fbcea5f4850>,\n",
       "  <matplotlib.patches.Wedge at 0x7fbcea5fc310>,\n",
       "  <matplotlib.patches.Wedge at 0x7fbcea5fce10>],\n",
       " [Text(0.9583659788765976, 1.0205560496767931, 'First'),\n",
       "  Text(-0.8923935311098282, 1.0787185850041392, 'Lower second'),\n",
       "  Text(-1.3937867453250874, 0.13175169280164978, 'Third/Pass'),\n",
       "  Text(0.043975053538484424, -1.3993091848002313, 'Upper second')],\n",
       " [Text(0.6160924149920984, 0.6560717462207956, '26 %'),\n",
       "  Text(-0.5736815557134609, 0.6934619475026609, '20 %'),\n",
       "  Text(-0.8960057648518418, 0.08469751680106057, '5 %'),\n",
       "  Text(0.028269677274739988, -0.8995559045144342, '49 %')])"
      ]
     },
     "execution_count": 25,
     "metadata": {},
     "output_type": "execute_result"
    },
    {
     "data": {
      "image/png": "[encoded data removed]",
      "text/plain": [
       "<Figure size 432x288 with 1 Axes>"
      ]
     },
     "metadata": {},
     "output_type": "display_data"
    }
   ],
   "source": [
    "plt.pie(df_16_17['Percentage'], labels=df_16_17[\"Classification of First Degree\"], explode = [0.3]*4, shadow = True, autopct='%.0f %%')"
   ]
  },
  {
   "cell_type": "markdown",
   "metadata": {},
   "source": [
    "<h2>Adding Labels</h2>\n",
    "<p>Add labels for each slice so that we know which classification is associated with each slice.  Replot to make sure it has worked correctly</p>"
   ]
  },
  {
   "cell_type": "code",
   "execution_count": null,
   "metadata": {},
   "outputs": [],
   "source": [
    "Already done"
   ]
  },
  {
   "cell_type": "markdown",
   "metadata": {},
   "source": [
    "<h2>Add a Title to the Plot</h2>\n",
    "<p>Add a title to the plot, 'Classification of Degrees Awarded in 2016/17'</p>"
   ]
  },
  {
   "cell_type": "code",
   "execution_count": 26,
   "metadata": {},
   "outputs": [
    {
     "data": {
      "text/plain": [
       "Text(0.5, 1.0, 'Classification of Degrees Awarded in 2016/17')"
      ]
     },
     "execution_count": 26,
     "metadata": {},
     "output_type": "execute_result"
    },
    {
     "data": {
      "image/png": "[encoded data removed]",
      "text/plain": [
       "<Figure size 432x288 with 1 Axes>"
      ]
     },
     "metadata": {},
     "output_type": "display_data"
    }
   ],
   "source": [
    "plt.pie(df_16_17['Percentage'], labels=df_16_17[\"Classification of First Degree\"], explode = [0.3]*4, shadow = True, autopct='%.0f %%')\n",
    "plt.title(\"Classification of Degrees Awarded in 2016/17\")"
   ]
  },
  {
   "cell_type": "markdown",
   "metadata": {},
   "source": [
    "<h2>What the Plot tells you</h2>\n",
    "<p>Based on your plot, complete the following statements</p>\n",
    "<ul>\n",
    "<li>In academic year 2016/17, 26% of degrees awarded were ________________ First.</li>\n",
    "<li>In academic year 2016/17, 20% of degrees awarded were ________________ Lower second.</li>\n",
    "<li>In academic year 2016/17, just under half the degrees awarded were ________________ Upper second.</li>\n",
    "<li>In academic year 2016/17, 25% of degrees awarded were either ________________ Lower second or ________________ Third.</li>\n",
    "</ul>"
   ]
  }
 ],
 "metadata": {
  "kernelspec": {
   "display_name": "Python 3",
   "language": "python",
   "name": "python3"
  },
  "language_info": {
   "codemirror_mode": {
    "name": "ipython",
    "version": 3
   },
   "file_extension": ".py",
   "mimetype": "text/x-python",
   "name": "python",
   "nbconvert_exporter": "python",
   "pygments_lexer": "ipython3",
   "version": "3.7.6"
  }
 },
 "nbformat": 4,
 "nbformat_minor": 4
}
