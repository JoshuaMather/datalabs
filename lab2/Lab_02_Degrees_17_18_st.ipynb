{
 "cells": [
  {
   "cell_type": "markdown",
   "metadata": {},
   "source": [
    "<h1>Classification of Degrees awarded (2017/18)</h1>\n",
    "<p>In this Notebook you will show the degree classifications awareded from academic year 2017/18 as a bar plot</p>\n",
    "<p>You will require the files produced when you completed the previous exercise</p>"
   ]
  },
  {
   "cell_type": "markdown",
   "metadata": {},
   "source": [
    "<h2>Import PANDAs and Matplotlib.pylot</h2>\n",
    "<p>You will be using the pandas dataframe to store the data and Matplotlib pyplot to plot the data.  Import the necessary libraries</h2>"
   ]
  },
  {
   "cell_type": "code",
   "execution_count": 6,
   "metadata": {},
   "outputs": [],
   "source": [
    "import pandas as pd\n",
    "import matplotlib. pyplot as plt"
   ]
  },
  {
   "cell_type": "markdown",
   "metadata": {},
   "source": [
    "<h2>Read the data into a PANDAs DataFrame</h2>\n",
    "<p>Read the 'df.csv' in to a data frame called df, use the head method to output the first 20 rows of the datafile so that the structure of the dataframe can be explored.</p>"
   ]
  },
  {
   "cell_type": "code",
   "execution_count": 13,
   "metadata": {},
   "outputs": [
    {
     "data": {
      "text/html": [
       "<div>\n",
       "<style scoped>\n",
       "    .dataframe tbody tr th:only-of-type {\n",
       "        vertical-align: middle;\n",
       "    }\n",
       "\n",
       "    .dataframe tbody tr th {\n",
       "        vertical-align: top;\n",
       "    }\n",
       "\n",
       "    .dataframe thead th {\n",
       "        text-align: right;\n",
       "    }\n",
       "</style>\n",
       "<table border=\"1\" class=\"dataframe\">\n",
       "  <thead>\n",
       "    <tr style=\"text-align: right;\">\n",
       "      <th></th>\n",
       "      <th>Academic Year</th>\n",
       "      <th>Classification of First Degree</th>\n",
       "      <th>Number</th>\n",
       "      <th>Percentage</th>\n",
       "    </tr>\n",
       "  </thead>\n",
       "  <tbody>\n",
       "    <tr>\n",
       "      <th>0</th>\n",
       "      <td>2013/14</td>\n",
       "      <td>First</td>\n",
       "      <td>79410</td>\n",
       "      <td>20</td>\n",
       "    </tr>\n",
       "    <tr>\n",
       "      <th>1</th>\n",
       "      <td>2013/14</td>\n",
       "      <td>Lower second</td>\n",
       "      <td>95965</td>\n",
       "      <td>24</td>\n",
       "    </tr>\n",
       "    <tr>\n",
       "      <th>2</th>\n",
       "      <td>2013/14</td>\n",
       "      <td>Third/Pass</td>\n",
       "      <td>21905</td>\n",
       "      <td>6</td>\n",
       "    </tr>\n",
       "    <tr>\n",
       "      <th>3</th>\n",
       "      <td>2013/14</td>\n",
       "      <td>Upper second</td>\n",
       "      <td>198320</td>\n",
       "      <td>50</td>\n",
       "    </tr>\n",
       "    <tr>\n",
       "      <th>4</th>\n",
       "      <td>2014/15</td>\n",
       "      <td>First</td>\n",
       "      <td>81640</td>\n",
       "      <td>22</td>\n",
       "    </tr>\n",
       "    <tr>\n",
       "      <th>5</th>\n",
       "      <td>2014/15</td>\n",
       "      <td>Lower second</td>\n",
       "      <td>85250</td>\n",
       "      <td>23</td>\n",
       "    </tr>\n",
       "    <tr>\n",
       "      <th>6</th>\n",
       "      <td>2014/15</td>\n",
       "      <td>Third/Pass</td>\n",
       "      <td>20340</td>\n",
       "      <td>5</td>\n",
       "    </tr>\n",
       "    <tr>\n",
       "      <th>7</th>\n",
       "      <td>2014/15</td>\n",
       "      <td>Upper second</td>\n",
       "      <td>183680</td>\n",
       "      <td>50</td>\n",
       "    </tr>\n",
       "    <tr>\n",
       "      <th>8</th>\n",
       "      <td>2015/16</td>\n",
       "      <td>First</td>\n",
       "      <td>88890</td>\n",
       "      <td>24</td>\n",
       "    </tr>\n",
       "    <tr>\n",
       "      <th>9</th>\n",
       "      <td>2015/16</td>\n",
       "      <td>Lower second</td>\n",
       "      <td>81595</td>\n",
       "      <td>22</td>\n",
       "    </tr>\n",
       "    <tr>\n",
       "      <th>10</th>\n",
       "      <td>2015/16</td>\n",
       "      <td>Third/Pass</td>\n",
       "      <td>19280</td>\n",
       "      <td>5</td>\n",
       "    </tr>\n",
       "    <tr>\n",
       "      <th>11</th>\n",
       "      <td>2015/16</td>\n",
       "      <td>Upper second</td>\n",
       "      <td>186565</td>\n",
       "      <td>50</td>\n",
       "    </tr>\n",
       "    <tr>\n",
       "      <th>12</th>\n",
       "      <td>2016/17</td>\n",
       "      <td>First</td>\n",
       "      <td>100945</td>\n",
       "      <td>26</td>\n",
       "    </tr>\n",
       "    <tr>\n",
       "      <th>13</th>\n",
       "      <td>2016/17</td>\n",
       "      <td>Lower second</td>\n",
       "      <td>79515</td>\n",
       "      <td>20</td>\n",
       "    </tr>\n",
       "    <tr>\n",
       "      <th>14</th>\n",
       "      <td>2016/17</td>\n",
       "      <td>Third/Pass</td>\n",
       "      <td>19025</td>\n",
       "      <td>5</td>\n",
       "    </tr>\n",
       "    <tr>\n",
       "      <th>15</th>\n",
       "      <td>2016/17</td>\n",
       "      <td>Upper second</td>\n",
       "      <td>192395</td>\n",
       "      <td>49</td>\n",
       "    </tr>\n",
       "    <tr>\n",
       "      <th>16</th>\n",
       "      <td>2017/18</td>\n",
       "      <td>First</td>\n",
       "      <td>110475</td>\n",
       "      <td>28</td>\n",
       "    </tr>\n",
       "    <tr>\n",
       "      <th>17</th>\n",
       "      <td>2017/18</td>\n",
       "      <td>Lower second</td>\n",
       "      <td>76210</td>\n",
       "      <td>19</td>\n",
       "    </tr>\n",
       "    <tr>\n",
       "      <th>18</th>\n",
       "      <td>2017/18</td>\n",
       "      <td>Third/Pass</td>\n",
       "      <td>17830</td>\n",
       "      <td>4</td>\n",
       "    </tr>\n",
       "    <tr>\n",
       "      <th>19</th>\n",
       "      <td>2017/18</td>\n",
       "      <td>Upper second</td>\n",
       "      <td>192425</td>\n",
       "      <td>48</td>\n",
       "    </tr>\n",
       "  </tbody>\n",
       "</table>\n",
       "</div>"
      ],
      "text/plain": [
       "   Academic Year Classification of First Degree  Number  Percentage\n",
       "0        2013/14                          First   79410          20\n",
       "1        2013/14                   Lower second   95965          24\n",
       "2        2013/14                     Third/Pass   21905           6\n",
       "3        2013/14                   Upper second  198320          50\n",
       "4        2014/15                          First   81640          22\n",
       "5        2014/15                   Lower second   85250          23\n",
       "6        2014/15                     Third/Pass   20340           5\n",
       "7        2014/15                   Upper second  183680          50\n",
       "8        2015/16                          First   88890          24\n",
       "9        2015/16                   Lower second   81595          22\n",
       "10       2015/16                     Third/Pass   19280           5\n",
       "11       2015/16                   Upper second  186565          50\n",
       "12       2016/17                          First  100945          26\n",
       "13       2016/17                   Lower second   79515          20\n",
       "14       2016/17                     Third/Pass   19025           5\n",
       "15       2016/17                   Upper second  192395          49\n",
       "16       2017/18                          First  110475          28\n",
       "17       2017/18                   Lower second   76210          19\n",
       "18       2017/18                     Third/Pass   17830           4\n",
       "19       2017/18                   Upper second  192425          48"
      ]
     },
     "execution_count": 13,
     "metadata": {},
     "output_type": "execute_result"
    }
   ],
   "source": [
    "df = pd.read_csv(\"df.csv\")\n",
    "df.head(20)\n",
    "df = df.drop(columns=['level_0', 'index'])\n",
    "df"
   ]
  },
  {
   "cell_type": "markdown",
   "metadata": {},
   "source": [
    "<h2>Creating a new DataFrame</h2>\n",
    "<p>Create a new dataframe named df_17_18 that contains only the rows where the 'Academic Year' column has the value '2017/18', then output the dataframe to make sure you have the correct four rows.</p>"
   ]
  },
  {
   "cell_type": "code",
   "execution_count": 15,
   "metadata": {},
   "outputs": [
    {
     "data": {
      "text/html": [
       "<div>\n",
       "<style scoped>\n",
       "    .dataframe tbody tr th:only-of-type {\n",
       "        vertical-align: middle;\n",
       "    }\n",
       "\n",
       "    .dataframe tbody tr th {\n",
       "        vertical-align: top;\n",
       "    }\n",
       "\n",
       "    .dataframe thead th {\n",
       "        text-align: right;\n",
       "    }\n",
       "</style>\n",
       "<table border=\"1\" class=\"dataframe\">\n",
       "  <thead>\n",
       "    <tr style=\"text-align: right;\">\n",
       "      <th></th>\n",
       "      <th>Academic Year</th>\n",
       "      <th>Classification of First Degree</th>\n",
       "      <th>Number</th>\n",
       "      <th>Percentage</th>\n",
       "    </tr>\n",
       "  </thead>\n",
       "  <tbody>\n",
       "    <tr>\n",
       "      <th>16</th>\n",
       "      <td>2017/18</td>\n",
       "      <td>First</td>\n",
       "      <td>110475</td>\n",
       "      <td>28</td>\n",
       "    </tr>\n",
       "    <tr>\n",
       "      <th>17</th>\n",
       "      <td>2017/18</td>\n",
       "      <td>Lower second</td>\n",
       "      <td>76210</td>\n",
       "      <td>19</td>\n",
       "    </tr>\n",
       "    <tr>\n",
       "      <th>18</th>\n",
       "      <td>2017/18</td>\n",
       "      <td>Third/Pass</td>\n",
       "      <td>17830</td>\n",
       "      <td>4</td>\n",
       "    </tr>\n",
       "    <tr>\n",
       "      <th>19</th>\n",
       "      <td>2017/18</td>\n",
       "      <td>Upper second</td>\n",
       "      <td>192425</td>\n",
       "      <td>48</td>\n",
       "    </tr>\n",
       "  </tbody>\n",
       "</table>\n",
       "</div>"
      ],
      "text/plain": [
       "   Academic Year Classification of First Degree  Number  Percentage\n",
       "16       2017/18                          First  110475          28\n",
       "17       2017/18                   Lower second   76210          19\n",
       "18       2017/18                     Third/Pass   17830           4\n",
       "19       2017/18                   Upper second  192425          48"
      ]
     },
     "execution_count": 15,
     "metadata": {},
     "output_type": "execute_result"
    }
   ],
   "source": [
    "mask = df['Academic Year'] == \"2017/18\"\n",
    "df_17_18 = df[mask]\n",
    "df_17_18"
   ]
  },
  {
   "cell_type": "markdown",
   "metadata": {},
   "source": [
    "<h2>Setting the Index</h2>\n",
    "<p>Set Academic Year as the row index and remove any unnamed columns.  Then output the dataframe to make sure it is as expected</p>"
   ]
  },
  {
   "cell_type": "code",
   "execution_count": 17,
   "metadata": {},
   "outputs": [],
   "source": [
    "df_17_18 = df_17_18.set_index('Academic Year')"
   ]
  },
  {
   "cell_type": "markdown",
   "metadata": {},
   "source": [
    "<h2>Define the Size of the Figure</h2>\n",
    "<p>We are now ready to plot.  Figures consist of one or more plots, set the size of the figure to 10 inches by 5 inches. Give your figure a name called '17_18' and assign this object to a variable named fig</p>"
   ]
  },
  {
   "cell_type": "code",
   "execution_count": 22,
   "metadata": {},
   "outputs": [
    {
     "data": {
      "text/plain": [
       "<Figure size 720x360 with 0 Axes>"
      ]
     },
     "metadata": {},
     "output_type": "display_data"
    }
   ],
   "source": [
    "fig = plt.figure(figsize=(10,5))\n",
    "\n"
   ]
  },
  {
   "cell_type": "markdown",
   "metadata": {},
   "source": [
    "<h2>Create a Plot</h2>\n",
    "<p>Create a bar plot using using the data from the 'Classification of First Degree' and 'Percentage' columns.  Give the plot a label equal to 'Degrees 2017/18'.</p> "
   ]
  },
  {
   "cell_type": "code",
   "execution_count": 23,
   "metadata": {},
   "outputs": [
    {
     "data": {
      "text/plain": [
       "<BarContainer object of 20 artists>"
      ]
     },
     "execution_count": 23,
     "metadata": {},
     "output_type": "execute_result"
    },
    {
     "data": {
      "image/png": "[encoded data removed]",
      "text/plain": [
       "<Figure size 432x288 with 1 Axes>"
      ]
     },
     "metadata": {
      "needs_background": "light"
     },
     "output_type": "display_data"
    }
   ],
   "source": [
    "plt.bar(df['Classification of First Degree'], df['Percentage'])"
   ]
  },
  {
   "cell_type": "markdown",
   "metadata": {},
   "source": [
    "<h2>Resetting and Reording the Index</h2>\n",
    "<p>Reset the index (so things are easier to shuffle around), then, reorder the index so that the classifications are in order from First to Third.</p>\n",
    "<p>Replot to check things worked as expected.</p>"
   ]
  },
  {
   "cell_type": "code",
   "execution_count": 51,
   "metadata": {},
   "outputs": [
    {
     "data": {
      "text/html": [
       "<div>\n",
       "<style scoped>\n",
       "    .dataframe tbody tr th:only-of-type {\n",
       "        vertical-align: middle;\n",
       "    }\n",
       "\n",
       "    .dataframe tbody tr th {\n",
       "        vertical-align: top;\n",
       "    }\n",
       "\n",
       "    .dataframe thead th {\n",
       "        text-align: right;\n",
       "    }\n",
       "</style>\n",
       "<table border=\"1\" class=\"dataframe\">\n",
       "  <thead>\n",
       "    <tr style=\"text-align: right;\">\n",
       "      <th></th>\n",
       "      <th>Academic Year</th>\n",
       "      <th>Classification of First Degree</th>\n",
       "      <th>Number</th>\n",
       "      <th>Percentage</th>\n",
       "    </tr>\n",
       "  </thead>\n",
       "  <tbody>\n",
       "    <tr>\n",
       "      <th>0</th>\n",
       "      <td>2017/18</td>\n",
       "      <td>First</td>\n",
       "      <td>110475</td>\n",
       "      <td>28</td>\n",
       "    </tr>\n",
       "    <tr>\n",
       "      <th>3</th>\n",
       "      <td>2017/18</td>\n",
       "      <td>Upper second</td>\n",
       "      <td>192425</td>\n",
       "      <td>48</td>\n",
       "    </tr>\n",
       "    <tr>\n",
       "      <th>1</th>\n",
       "      <td>2017/18</td>\n",
       "      <td>Lower second</td>\n",
       "      <td>76210</td>\n",
       "      <td>19</td>\n",
       "    </tr>\n",
       "    <tr>\n",
       "      <th>2</th>\n",
       "      <td>2017/18</td>\n",
       "      <td>Third/Pass</td>\n",
       "      <td>17830</td>\n",
       "      <td>4</td>\n",
       "    </tr>\n",
       "  </tbody>\n",
       "</table>\n",
       "</div>"
      ],
      "text/plain": [
       "  Academic Year Classification of First Degree  Number  Percentage\n",
       "0       2017/18                          First  110475          28\n",
       "3       2017/18                   Upper second  192425          48\n",
       "1       2017/18                   Lower second   76210          19\n",
       "2       2017/18                     Third/Pass   17830           4"
      ]
     },
     "execution_count": 51,
     "metadata": {},
     "output_type": "execute_result"
    }
   ],
   "source": [
    "#df_17_18 = df_17_18.reset_index()\n",
    "#df_17_18 = df.drop(columns=['level_0', 'index'])\n",
    "#df_17_18.reindex([0,2,3,1])\n",
    "\n",
    "#df_17_18\n",
    "#df_17_18 = df_17_18.drop(columns=['level_0', 'index'])\n",
    "\n",
    "df_17_18\n",
    "df_17_18 = df_17_18.reindex([0,3,1,2])\n",
    "df_17_18"
   ]
  },
  {
   "cell_type": "markdown",
   "metadata": {},
   "source": [
    "<h2>Adding x and y labels</h2>\n",
    "<p>Add a x label 'Classification of First Degree' and a y label '% Achieved', then replot</p>"
   ]
  },
  {
   "cell_type": "code",
   "execution_count": 52,
   "metadata": {},
   "outputs": [
    {
     "data": {
      "text/plain": [
       "<BarContainer object of 4 artists>"
      ]
     },
     "execution_count": 52,
     "metadata": {},
     "output_type": "execute_result"
    },
    {
     "data": {
      "image/png": "[encoded data removed]",
      "text/plain": [
       "<Figure size 432x288 with 1 Axes>"
      ]
     },
     "metadata": {
      "needs_background": "light"
     },
     "output_type": "display_data"
    }
   ],
   "source": [
    "\n",
    "\n",
    "\n"
   ]
  },
  {
   "cell_type": "markdown",
   "metadata": {},
   "source": [
    "<h2>Add a Title to the Plot</h2>\n",
    "<p>Add a title to the plot, 'Percentage of First Class Degrees Awarded'</p>"
   ]
  },
  {
   "cell_type": "code",
   "execution_count": 60,
   "metadata": {},
   "outputs": [
    {
     "data": {
      "image/png": "[encoded data removed]",
      "text/plain": [
       "<Figure size 432x288 with 1 Axes>"
      ]
     },
     "metadata": {
      "needs_background": "light"
     },
     "output_type": "display_data"
    }
   ],
   "source": [
    "plt.title(\"Percentage of First Class Degrees Awarded\")\n",
    "plt.xlabel = ('Classification of First Degree')\n",
    "plt.ylabel = ('% Achieved')\n",
    "\n",
    "plt.bar(df_17_18['Classification of First Degree'], df_17_18['Percentage'])\n",
    "\n",
    "plt.show()"
   ]
  },
  {
   "cell_type": "markdown",
   "metadata": {},
   "source": [
    "<h2>Horizontal Bar Plots</h2>\n",
    "<p>Change the plot so that a horizontal bar graph is plotted.</p>"
   ]
  },
  {
   "cell_type": "code",
   "execution_count": 64,
   "metadata": {},
   "outputs": [
    {
     "data": {
      "image/png": "[encoded data removed]",
      "text/plain": [
       "<Figure size 432x288 with 1 Axes>"
      ]
     },
     "metadata": {
      "needs_background": "light"
     },
     "output_type": "display_data"
    }
   ],
   "source": [
    "plt.title(\"Percentage of First Class Degrees Awarded\")\n",
    "plt.xlabel = ('Classification of First Degree')\n",
    "plt.ylabel = ('% Achieved')\n",
    "\n",
    "plt.barh(df_17_18['Classification of First Degree'], df_17_18['Percentage'])\n",
    "\n",
    "plt.show()"
   ]
  },
  {
   "cell_type": "markdown",
   "metadata": {},
   "source": [
    "<h2>What the Plot tells you</h2>\n",
    "<p>Based on your plot, complete the following statements</p>\n",
    "<ul>\n",
    "<li>The most common degree classification awarded for academic year 2017/18 was a _____________ upper second</li>\n",
    "<li>The least common degree classification awarded for academic year 2017/18 was a _____________ third/pass</li>\n",
    "<li>Approximately 30% of degrees awarded for academic year 2017/18 were __________ first degrees.</li>\n",
    "<li>Approximately 20% of degrees awarded for academic year 2017/18 were __________ lower second degrees.</li>\n",
    "</ul>"
   ]
  },
  {
   "cell_type": "code",
   "execution_count": null,
   "metadata": {},
   "outputs": [],
   "source": []
  }
 ],
 "metadata": {
  "kernelspec": {
   "display_name": "Python 3",
   "language": "python",
   "name": "python3"
  },
  "language_info": {
   "codemirror_mode": {
    "name": "ipython",
    "version": 3
   },
   "file_extension": ".py",
   "mimetype": "text/x-python",
   "name": "python",
   "nbconvert_exporter": "python",
   "pygments_lexer": "ipython3",
   "version": "3.7.6"
  }
 },
 "nbformat": 4,
 "nbformat_minor": 4
}
